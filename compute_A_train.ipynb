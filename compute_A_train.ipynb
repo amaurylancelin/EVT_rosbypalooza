{
 "cells": [
  {
   "cell_type": "code",
   "execution_count": 2,
   "metadata": {},
   "outputs": [],
   "source": [
    "import xarray as xr\n",
    "import os\n",
    "import numpy as np\n",
    "import matplotlib.pyplot as plt\n",
    "import seaborn as sns\n",
    "sns.set_style('darkgrid')\n",
    "import pandas as pd\n",
    "import cartopy.crs as ccrs\n",
    "# from metpy.units import units\n",
    "from tqdm import tqdm\n",
    "path = \"/glade/work/alancelin/EVT_rossbypalooza/\"\n",
    "os.chdir(path)\n",
    "from src.utils import compute_A"
   ]
  },
  {
   "cell_type": "code",
   "execution_count": 10,
   "metadata": {},
   "outputs": [],
   "source": [
    "# Combine all files in path \n",
    "# select var \n",
    "var = 'tas'\n",
    "sim_number = 0\n",
    "path = f\"/glade/derecho/scratch/awikner/PLASIM/data/2000_year_sims_new/sim{sim_number}/{var}/\"\n",
    "# select lat, lon and window size\n",
    "spatial_window_size = 2\n",
    "# temporal_window_size = 7\n",
    "reduce = 'max'\n",
    "# Select lat and lon of Chicago\n",
    "lat = 41.881832\n",
    "lon = -87.623177 % 360 # for longitudes take the value modulo 360\n",
    "\n",
    "\n",
    "files = [f for f in os.listdir(path) if f.endswith('gaussian.nc')]\n",
    "files = files[:]\n",
    "# take file only if year >100\n",
    "files = [f for f in files if int(f.split('_')[0])>10]\n",
    "# order the files by year\n",
    "files = sorted(files, key=lambda x: int(x.split('_')[0]))\n",
    "\n",
    "# disable the printing of the warning\n",
    "# # combine all files using compute_A as a preprocessing function \n",
    "A = xr.open_mfdataset([path+file for file in files], preprocess=lambda ds: compute_A(ds, lat, lon, spatial_window_size, reduce), combine='nested',\n",
    "                       concat_dim='time', parallel=True, decode_times=True, use_cftime=True)\n",
    "\n",
    "A_df = A.to_dataframe()\n",
    "# save the dataframe\n",
    "file_name = f'data/train/A_{var}_lat.{int(lat)}_lon.{int(lon)}_spatial.{spatial_window_size}_reduce.{reduce}.csv'\n",
    "if os.path.exists(file_name):\n",
    "    os.remove(file_name)\n",
    "A_df.to_csv(file_name)"
   ]
  },
  {
   "cell_type": "code",
   "execution_count": 5,
   "metadata": {},
   "outputs": [
    {
     "data": {
      "text/html": [
       "<div>\n",
       "<style scoped>\n",
       "    .dataframe tbody tr th:only-of-type {\n",
       "        vertical-align: middle;\n",
       "    }\n",
       "\n",
       "    .dataframe tbody tr th {\n",
       "        vertical-align: top;\n",
       "    }\n",
       "\n",
       "    .dataframe thead th {\n",
       "        text-align: right;\n",
       "    }\n",
       "</style>\n",
       "<table border=\"1\" class=\"dataframe\">\n",
       "  <thead>\n",
       "    <tr style=\"text-align: right;\">\n",
       "      <th></th>\n",
       "      <th>tas</th>\n",
       "    </tr>\n",
       "    <tr>\n",
       "      <th>time</th>\n",
       "      <th></th>\n",
       "    </tr>\n",
       "  </thead>\n",
       "  <tbody>\n",
       "    <tr>\n",
       "      <th>1429-06-01 00:00:00</th>\n",
       "      <td>293.131775</td>\n",
       "    </tr>\n",
       "    <tr>\n",
       "      <th>1429-06-02 00:00:00</th>\n",
       "      <td>293.159851</td>\n",
       "    </tr>\n",
       "    <tr>\n",
       "      <th>1429-06-03 00:00:00</th>\n",
       "      <td>293.405670</td>\n",
       "    </tr>\n",
       "    <tr>\n",
       "      <th>1429-06-04 00:00:00</th>\n",
       "      <td>293.829926</td>\n",
       "    </tr>\n",
       "    <tr>\n",
       "      <th>1429-06-05 00:00:00</th>\n",
       "      <td>294.181671</td>\n",
       "    </tr>\n",
       "    <tr>\n",
       "      <th>...</th>\n",
       "      <td>...</td>\n",
       "    </tr>\n",
       "    <tr>\n",
       "      <th>1069-08-27 00:00:00</th>\n",
       "      <td>309.920990</td>\n",
       "    </tr>\n",
       "    <tr>\n",
       "      <th>1069-08-28 00:00:00</th>\n",
       "      <td>309.836975</td>\n",
       "    </tr>\n",
       "    <tr>\n",
       "      <th>1069-08-29 00:00:00</th>\n",
       "      <td>309.890533</td>\n",
       "    </tr>\n",
       "    <tr>\n",
       "      <th>1069-08-30 00:00:00</th>\n",
       "      <td>310.087311</td>\n",
       "    </tr>\n",
       "    <tr>\n",
       "      <th>1069-08-31 00:00:00</th>\n",
       "      <td>310.361877</td>\n",
       "    </tr>\n",
       "  </tbody>\n",
       "</table>\n",
       "<p>184 rows × 1 columns</p>\n",
       "</div>"
      ],
      "text/plain": [
       "                            tas\n",
       "time                           \n",
       "1429-06-01 00:00:00  293.131775\n",
       "1429-06-02 00:00:00  293.159851\n",
       "1429-06-03 00:00:00  293.405670\n",
       "1429-06-04 00:00:00  293.829926\n",
       "1429-06-05 00:00:00  294.181671\n",
       "...                         ...\n",
       "1069-08-27 00:00:00  309.920990\n",
       "1069-08-28 00:00:00  309.836975\n",
       "1069-08-29 00:00:00  309.890533\n",
       "1069-08-30 00:00:00  310.087311\n",
       "1069-08-31 00:00:00  310.361877\n",
       "\n",
       "[184 rows x 1 columns]"
      ]
     },
     "execution_count": 5,
     "metadata": {},
     "output_type": "execute_result"
    }
   ],
   "source": [
    "# # convert index to pandas.DatetimeIndex\n",
    "# A_df = A.to_dataframe()\n",
    "\n",
    "# # select month 6, 7 or 8\n",
    "# A_df = A_df[np.isin(A_df.index.month, [6, 7, 8])]\n",
    "# A_df"
   ]
  },
  {
   "cell_type": "code",
   "execution_count": 67,
   "metadata": {},
   "outputs": [
    {
     "name": "stdout",
     "output_type": "stream",
     "text": [
      "Memory usage of A_df: 0.051605224609375 MB\n"
     ]
    }
   ],
   "source": [
    "path = \"/glade/work/alancelin/EVT_rossbypalooza/data/A_tas_41_272_2_7.csv\"\n",
    "A_df = pd.read_csv(path, index_col=0)\n",
    "print(f\"Memory usage of A_df: {A_df.memory_usage().sum() / 1024**2} MB\")"
   ]
  }
 ],
 "metadata": {
  "kernelspec": {
   "display_name": "NPL 2024b",
   "language": "python",
   "name": "npl-2024b"
  }
 },
 "nbformat": 4,
 "nbformat_minor": 2
}
