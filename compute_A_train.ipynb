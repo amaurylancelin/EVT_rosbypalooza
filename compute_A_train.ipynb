{
 "cells": [
  {
   "cell_type": "code",
   "execution_count": 1,
   "metadata": {},
   "outputs": [],
   "source": [
    "import xarray as xr\n",
    "import os\n",
    "import pandas as pd\n",
    "from pathlib import Path\n",
    "\n",
    "# from src.utils import compute_A"
   ]
  },
  {
   "cell_type": "code",
   "execution_count": 2,
   "metadata": {},
   "outputs": [],
   "source": [
    "import numpy as np\n",
    "\n",
    "def compute_A(ds, var, lat, lon, spatial_window_size, reduce='max'):\n",
    "    # for longitudes take the value modulo 360\n",
    "    if lon < 0:\n",
    "        lon = lon % 360\n",
    "    # get the index of the lat and lon\n",
    "    lat_idx = np.abs(ds.lat.values - lat).argmin()\n",
    "    lon_idx = np.abs(ds.lon.values - lon).argmin()\n",
    "\n",
    "    # compute on observable A being the average temperature in the window over the last the temporal_window_size days\n",
    "    A = ds.isel(lat=slice(lat_idx-spatial_window_size, lat_idx+spatial_window_size), \n",
    "                           lon=slice(lon_idx-spatial_window_size, lon_idx+spatial_window_size))\n",
    "    if reduce == 'mean':\n",
    "        A = A.resample(time='D').mean()\n",
    "    elif reduce == 'max':\n",
    "        A = A.resample(time='D').max()\n",
    "    elif reduce == 'min':\n",
    "        A = A.resample(time='D').min()\n",
    "    elif reduce == 'None':\n",
    "        pass\n",
    "    else:\n",
    "        raise ValueError(\"reduce must be either 'mean', 'max', 'min', or 'None'\")\n",
    "    A = A[var].mean(dim=['lat', 'lon'])# check window_size *4 or not #.rolling(time=temporal_window_size)\n",
    "    return A"
   ]
  },
  {
   "cell_type": "code",
   "execution_count": 3,
   "metadata": {},
   "outputs": [
    {
     "name": "stdout",
     "output_type": "stream",
     "text": [
      "[Errno 17] File exists: 'data/ground_truth/sim1/'\n"
     ]
    }
   ],
   "source": [
    "# Combine all files in path \n",
    "# select var \n",
    "var = 'tas'\n",
    "sim_number = 1\n",
    "path = f\"/glade/derecho/scratch/awikner/PLASIM/data/2000_year_sims_new/sim{sim_number}/{var}/\"\n",
    "# select lat, lon and window size\n",
    "spatial_window_size = 2\n",
    "# temporal_window_size = 7\n",
    "reduce = 'max'\n",
    "# Select lat and lon of Chicago\n",
    "lat = float(34)\n",
    "lon = float(109) % 360 # for longitudes take the value modulo 360\n",
    "\n",
    "# Chicago - lat = 41, lon = -88\n",
    "# China - lat=34.00, lon=109.00\n",
    "# India - lat=27, lon=72\n",
    "# NW US - lat=45, lon=-120\n",
    "# Saudi - lat=25, lon=47\n",
    "# Europe - lat=48, lon=2\n",
    "\n",
    "\n",
    "files = [f for f in os.listdir(path) if f.endswith('gaussian.nc')]\n",
    "# files = files[:]\n",
    "# Remove spin-off data: take file only if year >10\n",
    "files = [f for f in files if int(f.split('_')[0])>2090]\n",
    "# # order the files by year\n",
    "files1 = sorted(files, key=lambda x: int(x.split('_')[0]))\n",
    "files2 = sorted(files, key=lambda x: int(x.split('_')[0]))\n",
    "\n",
    "# disable the printing of the warning\n",
    "# # combine all files using compute_A as a preprocessing function \n",
    "A = xr.open_mfdataset([path+file for file in files1], preprocess=lambda ds: compute_A(ds, var, lat, lon, spatial_window_size, reduce), combine='nested',\n",
    "                       concat_dim='time', parallel=False, decode_times=True, use_cftime=True)\n",
    "\n",
    "A_df = A.to_dataframe()\n",
    "# save the dataframe\n",
    "\n",
    "# Make folder to save the data\n",
    "SAVE_DIR = f'data/ground_truth/sim{sim_number}/'\n",
    "try:\n",
    "    os.mkdir(SAVE_DIR)\n",
    "except OSError as error:\n",
    "    print(error) \n",
    "\n",
    "# save the dataframe\n",
    "file_name = f'{var}_lat.{int(lat)}_lon.{int(lon)}_spatial.{spatial_window_size}_reduce.{reduce}.csv'\n",
    "if os.path.exists(SAVE_DIR + file_name):\n",
    "    os.remove(SAVE_DIR + file_name)\n",
    "A_df.to_csv(file_name)"
   ]
  }
 ],
 "metadata": {
  "kernelspec": {
   "display_name": "evt",
   "language": "python",
   "name": "python3"
  },
  "language_info": {
   "codemirror_mode": {
    "name": "ipython",
    "version": 3
   },
   "file_extension": ".py",
   "mimetype": "text/x-python",
   "name": "python",
   "nbconvert_exporter": "python",
   "pygments_lexer": "ipython3",
   "version": "3.11.9"
  }
 },
 "nbformat": 4,
 "nbformat_minor": 2
}
