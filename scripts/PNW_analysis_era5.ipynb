{
 "cells": [
  {
   "cell_type": "code",
   "execution_count": null,
   "id": "d43869c7-0a25-43a6-8309-d50e0e1de32c",
   "metadata": {},
   "outputs": [],
   "source": [
    "import xarray as xr\n",
    "import numpy as np\n",
    "import scipy.stats\n",
    "import src.evt\n",
    "import metpy.calc\n",
    "import metpy.units\n",
    "import matplotlib.pyplot as plt\n",
    "import seaborn as sns\n",
    "import os.path\n",
    "\n",
    "## set plotting style\n",
    "sns.set(rc={\"axes.facecolor\": \"white\", \"axes.grid\": False})"
   ]
  },
  {
   "cell_type": "markdown",
   "id": "20adb5e2-4902-46d5-aca0-fa803c26f5bb",
   "metadata": {},
   "source": [
    "# Load 6-hourly data"
   ]
  },
  {
   "cell_type": "code",
   "execution_count": null,
   "id": "2c9cecad-c7af-4ef5-9d17-0481815bcbdc",
   "metadata": {},
   "outputs": [],
   "source": [
    "def load_whoi_data():\n",
    "    \"\"\"Load data originally obtained from WHOI's data server\"\"\"\n",
    "\n",
    "    ## open pre-computed PNW data\n",
    "    data = xr.open_mfdataset(\"../data/*.nc\").compute()\n",
    "\n",
    "    return data"
   ]
  },
  {
   "cell_type": "code",
   "execution_count": null,
   "id": "581a419b-76cf-485e-9aec-ebe249741930",
   "metadata": {},
   "outputs": [],
   "source": [
    "data = load_whoi_data()"
   ]
  },
  {
   "cell_type": "markdown",
   "id": "28b226d8-8317-40b9-9689-48dd29af3873",
   "metadata": {},
   "source": [
    "#### Compute wetbulb temperature"
   ]
  },
  {
   "cell_type": "code",
   "execution_count": null,
   "id": "2c57cb66-5492-4ab9-910a-a45c60dfab1b",
   "metadata": {},
   "outputs": [],
   "source": [
    "## compute wetbulb\n",
    "Tw = metpy.calc.wet_bulb_temperature(\n",
    "    pressure=data[\"sp\"] * metpy.units.units.Pa,\n",
    "    temperature=data[\"t2m\"] * metpy.units.units.K,\n",
    "    dewpoint=data[\"d2m\"] * metpy.units.units.K,\n",
    ")\n",
    "\n",
    "## add to dataset\n",
    "data[\"tw\"] = Tw\n",
    "\n",
    "## drop un-needed vars\n",
    "data = data.drop_vars([\"d2m\", \"sp\"])"
   ]
  },
  {
   "cell_type": "markdown",
   "id": "03807975-cf87-4d11-ba1d-82d2cc1bc819",
   "metadata": {},
   "source": [
    "# Prep data\n",
    "Following Bartusek et al., compute daily mean and subset to JJA"
   ]
  },
  {
   "cell_type": "code",
   "execution_count": null,
   "id": "8d36e661-61ff-45b3-9080-8a2744577bff",
   "metadata": {},
   "outputs": [],
   "source": [
    "## subset for JJA\n",
    "def get_jja(x):\n",
    "    \"\"\"function to subset for JJA\"\"\"\n",
    "    is_jja = (x.time.dt.month <= 8) & (x.time.dt.month >= 6)\n",
    "    return x.sel(time=is_jja)\n",
    "\n",
    "\n",
    "data_daily_mean = data.resample({\"time\": \"1D\"}).mean()\n",
    "data_daily_mean = get_jja(data_daily_mean)"
   ]
  },
  {
   "cell_type": "markdown",
   "id": "1c363ace-9f88-420c-a1c3-8f59ffe7d0c3",
   "metadata": {},
   "source": [
    "Scatter $T_{2m}$ vs. $T_{w,2m}$"
   ]
  },
  {
   "cell_type": "code",
   "execution_count": null,
   "id": "2fd329d6-71ae-4424-a008-1000769271a0",
   "metadata": {},
   "outputs": [],
   "source": [
    "fig, ax = plt.subplots(figsize=(2.5, 2.5))\n",
    "ax.scatter(data_daily_mean.t2m, data_daily_mean.tw, s=1)\n",
    "plt.show()"
   ]
  },
  {
   "cell_type": "markdown",
   "id": "f9ad8992-cf2d-4b9b-abc9-ff95126f0956",
   "metadata": {},
   "source": [
    "#### Compute annual max"
   ]
  },
  {
   "cell_type": "code",
   "execution_count": null,
   "id": "6fabef5f-c75f-45c3-8651-c1e7caaa2027",
   "metadata": {},
   "outputs": [],
   "source": [
    "data_annual_max = data_daily_mean.groupby(\"time.year\").max()\n",
    "year = data_annual_max.year"
   ]
  },
  {
   "cell_type": "markdown",
   "id": "389a0845-6abf-4b6b-a22c-e7788d5cb400",
   "metadata": {},
   "source": [
    "#### Plot timeseries comparison"
   ]
  },
  {
   "cell_type": "code",
   "execution_count": null,
   "id": "dc4a2b40-3307-40d8-a304-3bcc442514da",
   "metadata": {},
   "outputs": [],
   "source": [
    "normalize = lambda x: (x - x.mean()) / x.std()\n",
    "remove_mean = lambda x: x - x.mean()\n",
    "\n",
    "prep_fn = remove_mean\n",
    "\n",
    "fig, ax = plt.subplots(figsize=(4, 3))\n",
    "ax.plot(year, prep_fn(data_annual_max[\"tw\"]).values, label=r\"wet bulb\")\n",
    "ax.plot(year, prep_fn(data_annual_max[\"t2m\"]).values, label=r\"dry bulb\")\n",
    "ax.legend()\n",
    "ax.set_ylabel(r\"$K$\")\n",
    "ax.set_title(r\"PNW $T_{2m}$ anomaly (daily max)\")\n",
    "\n",
    "\n",
    "plt.show()"
   ]
  },
  {
   "cell_type": "markdown",
   "id": "7094f325-f903-4aa8-80f9-9fc7ed48352e",
   "metadata": {},
   "source": [
    "## Compute GEV"
   ]
  },
  {
   "cell_type": "code",
   "execution_count": null,
   "id": "6c1226ad-7db4-4083-8231-07cb52afa667",
   "metadata": {
    "scrolled": true
   },
   "outputs": [],
   "source": [
    "## specify model type, one of {\"gev\", \"gp\"}\n",
    "model_type = \"gev\"\n",
    "var_name = \"tw\"\n",
    "\n",
    "## select variable\n",
    "X = data_annual_max[var_name].values\n",
    "\n",
    "## specify whether to hold out 2021/2022 data\n",
    "hold_out_2021 = False\n",
    "\n",
    "## training data\n",
    "if hold_out_2021:\n",
    "    X_train = X[:-2]\n",
    "\n",
    "else:\n",
    "    X_train = X\n",
    "\n",
    "## select EVT distribution\n",
    "if model_type == \"gev\":\n",
    "    model_class = scipy.stats.genextreme\n",
    "    thresh = None\n",
    "\n",
    "elif model_type == \"gp\":\n",
    "    model_class = scipy.stats.genpareto\n",
    "    thresh = 318\n",
    "\n",
    "\n",
    "## Load data\n",
    "## TO-DO\n",
    "# X = load_prepped_data(model_type=model_type, thresh=thresh)\n",
    "\n",
    "## Empirical PDF (normalized histogram)\n",
    "pdf_empirical, bin_edges = src.evt.get_empirical_pdf(X)\n",
    "\n",
    "## Empirical return period\n",
    "tr_empirical, Xr_empirical = src.evt.get_empirical_return_period(X)\n",
    "\n",
    "## Fit model and get return levels\n",
    "model = src.evt.fit_model(X_train, model_class)\n",
    "Xr, tr = src.evt.get_return_levels(model, return_periods=np.logspace(0.01, 5, 100))\n",
    "\n",
    "# ## Compute confidence interval\n",
    "bounds_fp = f\"../data/PNW_ERA5/{model_type}_{var_name}_bounds.pkl\"\n",
    "Xr_lb, Xr_ub = src.evt.load_return_period_bnds(\n",
    "    X, model_class=model_class, n_samples=1000, save_fp=bounds_fp\n",
    ")\n",
    "\n",
    "## compute estimated return time for max event\n",
    "tr_max = tr[np.argmin(np.abs(Xr_empirical[-1] - Xr))]"
   ]
  },
  {
   "cell_type": "markdown",
   "id": "5d38abc0-9f0c-40b1-8cff-8049cc33f4d2",
   "metadata": {},
   "source": [
    "## Plot PDF"
   ]
  },
  {
   "cell_type": "code",
   "execution_count": null,
   "id": "bf06075b-f084-4899-8805-6cdc112bba90",
   "metadata": {},
   "outputs": [],
   "source": [
    "## test points to plot curve\n",
    "X_test = np.linspace(bin_edges.min(), bin_edges.max() + 1, 100)\n",
    "\n",
    "## setup plot\n",
    "fig, ax = plt.subplots(figsize=(4, 3))\n",
    "\n",
    "## plot empirical pdf\n",
    "ax.stairs(pdf_empirical, edges=bin_edges, color=\"gray\", fill=True, alpha=0.3)\n",
    "\n",
    "## plot distribution fit\n",
    "ax.plot(X_test, model.pdf(X_test), c=\"k\")\n",
    "\n",
    "## plot max value\n",
    "ax.scatter(X.max(), 0, marker=\"x\", c=\"r\", s=50)\n",
    "\n",
    "## label\n",
    "ax.set_xlabel(r\"Annual max ($K$)\")\n",
    "ax.set_ylabel(\"Prob.\")\n",
    "\n",
    "plt.show()"
   ]
  },
  {
   "cell_type": "markdown",
   "id": "e27ce96a-f3c8-4998-b2f3-b435ecaad379",
   "metadata": {},
   "source": [
    "## Plot return level"
   ]
  },
  {
   "cell_type": "code",
   "execution_count": null,
   "id": "e7746d99-769b-45f9-94de-98fd661c61e5",
   "metadata": {},
   "outputs": [],
   "source": [
    "fig, ax = plt.subplots(figsize=(4, 3))\n",
    "\n",
    "## plot modeled return period\n",
    "ax.plot(tr, Xr, c=\"k\")\n",
    "# ax.fill_between(tr, Xr_ub, Xr_lb, color=\"k\", alpha=0.1)\n",
    "\n",
    "## plot empirical return period\n",
    "ax.scatter(tr_empirical, Xr_empirical, c=\"r\", s=10)\n",
    "ax.plot(\n",
    "    [tr_empirical[np.argmax(Xr_empirical)], tr_max],\n",
    "    [Xr_empirical.max(), Xr_empirical.max()],\n",
    "    ls=\"--\",\n",
    "    lw=1,\n",
    "    c=\"k\",\n",
    ")\n",
    "ax.scatter(tr_max, Xr_empirical.max(), c=\"k\", marker=\"x\", s=50)\n",
    "\n",
    "## limit\n",
    "ax.set_ylim([None, Xr_empirical.max() + 0.5])\n",
    "ax.set_xlim([1e0, 1e3])\n",
    "\n",
    "## label axes\n",
    "ax.set_xlabel(\"Return period (years)\")\n",
    "ax.set_ylabel(r\"$T_{2m}$ ($K$)\")\n",
    "ax.set_xscale(\"log\")\n",
    "ax.set_title(f\"Est. return time: {tr_max:.0f} years\")\n",
    "\n",
    "plt.show()"
   ]
  }
 ],
 "metadata": {
  "kernelspec": {
   "display_name": "Python 3 (ipykernel)",
   "language": "python",
   "name": "python3"
  },
  "language_info": {
   "codemirror_mode": {
    "name": "ipython",
    "version": 3
   },
   "file_extension": ".py",
   "mimetype": "text/x-python",
   "name": "python",
   "nbconvert_exporter": "python",
   "pygments_lexer": "ipython3",
   "version": "3.12.4"
  }
 },
 "nbformat": 4,
 "nbformat_minor": 5
}
