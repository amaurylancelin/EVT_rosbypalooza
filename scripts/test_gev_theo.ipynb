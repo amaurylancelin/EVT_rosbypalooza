{
 "cells": [
  {
   "cell_type": "code",
   "execution_count": null,
   "id": "0f74b675-d1f7-4768-ae0e-3f9b1f909d38",
   "metadata": {},
   "outputs": [],
   "source": [
    "import scipy.stats\n",
    "import numpy\n",
    "import matplotlib.pyplot as plt\n",
    "import seaborn as sns\n",
    "import pandas as pd\n",
    "import numpy as np\n",
    "import xarray as xr\n",
    "\n",
    "## set plotting style\n",
    "sns.set(rc={\"axes.facecolor\": \"white\", \"axes.grid\": False})\n",
    "\n",
    "## initialize random number generator\n",
    "rng = np.random.default_rng()"
   ]
  },
  {
   "cell_type": "markdown",
   "id": "5d45827a-0ef5-4b82-9aea-6a5af3233411",
   "metadata": {},
   "source": [
    "## Load data"
   ]
  },
  {
   "cell_type": "code",
   "execution_count": null,
   "id": "e4ddd670-5bb0-409c-abbb-91b32f2d8380",
   "metadata": {},
   "outputs": [],
   "source": [
    "# Load from CSV\n",
    "data = pd.read_csv(\"../data/train/A_tas_lat.41_lon.272_spatial.2_reduce.max.csv\")\n",
    "\n",
    "# set time data as index\n",
    "data = data.set_index(\"time\")\n",
    "\n",
    "# convert to xarray\n",
    "data = xr.Dataset.from_dataframe(data)[\"tas\"]\n",
    "\n",
    "# update time axis (string to cftime object)\n",
    "updated_time = xr.cftime_range(\n",
    "    start=data[\"time\"].values[0], periods=len(data[\"time\"]), freq=\"1D\"\n",
    ")\n",
    "data[\"time\"] = updated_time"
   ]
  },
  {
   "cell_type": "markdown",
   "id": "0213ed52-52cb-4dea-8298-daf78138138a",
   "metadata": {},
   "source": [
    "## Resample to blocks (for GEV)"
   ]
  },
  {
   "cell_type": "code",
   "execution_count": null,
   "id": "1a81035e-a11a-4b6d-993e-c70f9b0bbd03",
   "metadata": {},
   "outputs": [],
   "source": [
    "data_blocked = data.groupby(\"time.year\").max()"
   ]
  },
  {
   "cell_type": "markdown",
   "id": "6b3f1bcb-3b2f-4512-9dec-1502a9111de9",
   "metadata": {},
   "source": [
    "## Fit GEV"
   ]
  },
  {
   "cell_type": "code",
   "execution_count": null,
   "id": "ed559cd0-4ee3-49d5-9720-2dcfdf5379d0",
   "metadata": {},
   "outputs": [],
   "source": [
    "c, loc, scale = scipy.stats.genextreme.fit(data_blocked)\n",
    "rv = scipy.stats.genextreme(c=c, loc=loc, scale=scale)"
   ]
  },
  {
   "cell_type": "markdown",
   "id": "a909977d-9be3-4455-a9ad-f550227ad4b8",
   "metadata": {},
   "source": [
    "## Empirical PDF"
   ]
  },
  {
   "cell_type": "code",
   "execution_count": null,
   "id": "d056bf85-fc30-4219-8a4e-2489f8e92738",
   "metadata": {},
   "outputs": [],
   "source": [
    "## histogram\n",
    "bin_width = 1\n",
    "bin_edges = np.arange(304, 326, bin_width)\n",
    "counts, _ = np.histogram(data_blocked, bins=bin_edges)\n",
    "\n",
    "## empirical PDF (normalize histogram)\n",
    "pdf_empirical = counts / (counts * bin_width).sum()"
   ]
  },
  {
   "cell_type": "markdown",
   "id": "1d384114-0e01-4d01-9d1a-f6c2427b1dee",
   "metadata": {},
   "source": [
    "## Plot result"
   ]
  },
  {
   "cell_type": "code",
   "execution_count": null,
   "id": "813e1589-494b-4985-95a8-5705330ee701",
   "metadata": {},
   "outputs": [],
   "source": [
    "xvals = np.linspace(304, 326, 200)\n",
    "pdf = rv.pdf(xvals)\n",
    "\n",
    "fig, ax = plt.subplots(figsize=(4, 3))\n",
    "ax.stairs(pdf_empirical, edges=bin_edges, color=\"gray\", fill=True, alpha=0.3)\n",
    "ax.plot(xvals, pdf, c=\"k\")\n",
    "\n",
    "ax.set_xlabel(r\"Annual max ($K$)\")\n",
    "ax.set_ylabel(\"Prob.\")\n",
    "ax.set_ylim([-0.01, None])\n",
    "ax.set_yticks([0, 0.05, 0.1])\n",
    "\n",
    "## plot max value\n",
    "ax.scatter(data_blocked.max(), 0, marker=\"x\", c=\"r\", s=50)\n",
    "\n",
    "plt.show()"
   ]
  },
  {
   "cell_type": "markdown",
   "id": "78637c0e-79c1-42c1-8d23-9ad054ef6ef5",
   "metadata": {},
   "source": [
    "## Return level"
   ]
  },
  {
   "cell_type": "markdown",
   "id": "2e65e189-df39-49d7-a29c-91cf5bb47861",
   "metadata": {},
   "source": [
    "#### theoretical return level"
   ]
  },
  {
   "cell_type": "code",
   "execution_count": null,
   "id": "fe32e89d-3054-42b8-8b9f-0d9a19004409",
   "metadata": {},
   "outputs": [],
   "source": [
    "t_r = np.logspace(0.0, 3.5)\n",
    "\n",
    "## Compute return level\n",
    "x_r = rv.isf(1 / t_r)\n",
    "\n",
    "## compare to second method\n",
    "x_r_test = rv.ppf(1 - 1 / t_r)\n",
    "\n",
    "print(np.allclose(x_r, x_r_test))"
   ]
  },
  {
   "cell_type": "markdown",
   "id": "a3c93c0e-1e52-46d6-9649-a9a093eff8d3",
   "metadata": {},
   "source": [
    "#### empirical return level"
   ]
  },
  {
   "cell_type": "code",
   "execution_count": null,
   "id": "1e85af93-8f6a-44f4-946d-75b83b24c36b",
   "metadata": {},
   "outputs": [],
   "source": [
    "data_sorted = data_blocked.isel(year=np.argsort(data_blocked.values))\n",
    "n = len(data_sorted)\n",
    "m = np.arange(1, n + 1)\n",
    "\n",
    "cdf_empirical = m / (n + 1)\n",
    "x_r_empirical = 1 / (1 - cdf_empirical)"
   ]
  },
  {
   "cell_type": "markdown",
   "id": "bb6072a1-80f5-4ffe-b693-2dfdf7cc2709",
   "metadata": {},
   "source": [
    "## Plot as function of number of blocks"
   ]
  },
  {
   "cell_type": "code",
   "execution_count": null,
   "id": "4cefc2e8-48ec-43aa-a6ca-a2e01c921ea9",
   "metadata": {},
   "outputs": [],
   "source": [
    "fig, ax = plt.subplots(figsize=(4, 3))\n",
    "\n",
    "## plot modeled return period\n",
    "ax.plot(t_r, x_r)\n",
    "\n",
    "## plot empirical return period\n",
    "ax.scatter(x_r_empirical, data_sorted, c=\"k\", s=1.5)\n",
    "\n",
    "## label axes\n",
    "ax.set_xlabel(\"Return period (years)\")\n",
    "ax.set_ylabel(r\"$T_{2m}$ ($K$)\")\n",
    "ax.set_xscale(\"log\")\n",
    "\n",
    "plt.show()"
   ]
  }
 ],
 "metadata": {
  "kernelspec": {
   "display_name": "Python 3 (ipykernel)",
   "language": "python",
   "name": "python3"
  },
  "language_info": {
   "codemirror_mode": {
    "name": "ipython",
    "version": 3
   },
   "file_extension": ".py",
   "mimetype": "text/x-python",
   "name": "python",
   "nbconvert_exporter": "python",
   "pygments_lexer": "ipython3",
   "version": "3.12.4"
  }
 },
 "nbformat": 4,
 "nbformat_minor": 5
}
