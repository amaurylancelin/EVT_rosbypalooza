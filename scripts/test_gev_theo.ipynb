{
 "cells": [
  {
   "cell_type": "code",
   "execution_count": null,
   "id": "0f74b675-d1f7-4768-ae0e-3f9b1f909d38",
   "metadata": {},
   "outputs": [],
   "source": [
    "import scipy.stats\n",
    "import numpy\n",
    "import matplotlib.pyplot as plt\n",
    "import seaborn as sns\n",
    "import pandas as pd\n",
    "import numpy as np\n",
    "import xarray as xr\n",
    "import tqdm\n",
    "\n",
    "## set plotting style\n",
    "sns.set(rc={\"axes.facecolor\": \"white\", \"axes.grid\": False})\n",
    "\n",
    "## initialize random number generator\n",
    "rng = np.random.default_rng()"
   ]
  },
  {
   "cell_type": "markdown",
   "id": "c2d94b5c-d9ae-4e1e-9750-332b5b101952",
   "metadata": {},
   "source": [
    "## Functions"
   ]
  },
  {
   "cell_type": "code",
   "execution_count": null,
   "id": "54a72b1f-ea51-4b1f-b9e2-4bf5361823f3",
   "metadata": {},
   "outputs": [],
   "source": [
    "def fit_model(data, model_class):\n",
    "    \"\"\"Get model fitted to data. Returns scipy.rv_continuous object\"\"\"\n",
    "\n",
    "    ## First, estimate params. In order: [c, loc, scale]\n",
    "    params = model_class.fit(data)\n",
    "\n",
    "    ## instantiate random variable\n",
    "    rv = model_class(*params)\n",
    "\n",
    "    return rv\n",
    "\n",
    "\n",
    "def get_return_levels(rv, return_periods=np.logspace(0.01, 3.5)):\n",
    "    \"\"\"get return value for given random variable at given return times\"\"\"\n",
    "\n",
    "    return rv.isf(1 / return_periods), return_periods\n",
    "\n",
    "\n",
    "def draw_sample(data, n=None):\n",
    "    \"\"\"draw random (bootstrap) sample from data.\n",
    "    'n' is number of elements in given sample\"\"\"\n",
    "\n",
    "    if n is None:\n",
    "        n = len(data)\n",
    "\n",
    "    return rng.choice(data, size=n, replace=True)\n",
    "\n",
    "\n",
    "def get_return_period_bnds(data, model_class, n_samples=1000, alpha=0.05):\n",
    "    \"\"\"get bounds for return period using bootstrap sampling\"\"\"\n",
    "\n",
    "    ## empty list to hold result\n",
    "    return_levels_samples = []\n",
    "\n",
    "    ## loop through number of samples\n",
    "    for _ in tqdm.tqdm(range(n_samples)):\n",
    "\n",
    "        ## fit model on bootstrapped sample\n",
    "        model = fit_model(draw_sample(data), model_class=model_class)\n",
    "\n",
    "        ## compute return period\n",
    "        return_levels_samples.append(get_return_levels(model)[0])\n",
    "\n",
    "    ## convert to array and compute bounds\n",
    "    return_levels_samples = np.stack(return_levels_samples, axis=0)\n",
    "    lb, ub = np.quantile(return_levels_samples, axis=0, q=[alpha / 2, 1 - alpha / 2])\n",
    "\n",
    "    return lb, ub"
   ]
  },
  {
   "cell_type": "markdown",
   "id": "5d45827a-0ef5-4b82-9aea-6a5af3233411",
   "metadata": {},
   "source": [
    "## Load data"
   ]
  },
  {
   "cell_type": "code",
   "execution_count": null,
   "id": "e4ddd670-5bb0-409c-abbb-91b32f2d8380",
   "metadata": {},
   "outputs": [],
   "source": [
    "# Load from CSV\n",
    "data = pd.read_csv(\"../data/train/A_tas_lat.41_lon.272_spatial.2_reduce.max.csv\")\n",
    "\n",
    "# set time data as index\n",
    "data = data.set_index(\"time\")\n",
    "\n",
    "# convert to xarray\n",
    "data = xr.Dataset.from_dataframe(data)[\"tas\"]\n",
    "\n",
    "# update time axis (string to cftime object)\n",
    "updated_time = xr.cftime_range(\n",
    "    start=data[\"time\"].values[0], periods=len(data[\"time\"]), freq=\"1D\"\n",
    ")\n",
    "data[\"time\"] = updated_time"
   ]
  },
  {
   "cell_type": "markdown",
   "id": "0213ed52-52cb-4dea-8298-daf78138138a",
   "metadata": {},
   "source": [
    "## Prep data (get blocks or peak over threshold)"
   ]
  },
  {
   "cell_type": "code",
   "execution_count": null,
   "id": "1a81035e-a11a-4b6d-993e-c70f9b0bbd03",
   "metadata": {},
   "outputs": [],
   "source": [
    "data_blocked = data.groupby(\"time.year\").max()"
   ]
  },
  {
   "cell_type": "markdown",
   "id": "90fccde4-a8f3-46a3-88c6-a92e73fe5ce7",
   "metadata": {},
   "source": [
    "## Empirical PDF (normalized histogram)"
   ]
  },
  {
   "cell_type": "code",
   "execution_count": null,
   "id": "d056bf85-fc30-4219-8a4e-2489f8e92738",
   "metadata": {},
   "outputs": [],
   "source": [
    "## histogram\n",
    "bin_width = 1\n",
    "bin_edges = np.arange(304, 326, bin_width)\n",
    "counts, _ = np.histogram(data_blocked, bins=bin_edges)\n",
    "\n",
    "## empirical PDF (normalize histogram)\n",
    "pdf_empirical = counts / (counts * bin_width).sum()"
   ]
  },
  {
   "cell_type": "markdown",
   "id": "6b3f1bcb-3b2f-4512-9dec-1502a9111de9",
   "metadata": {},
   "source": [
    "## Fit model"
   ]
  },
  {
   "cell_type": "code",
   "execution_count": null,
   "id": "ed559cd0-4ee3-49d5-9720-2dcfdf5379d0",
   "metadata": {},
   "outputs": [],
   "source": [
    "model_class = scipy.stats.genextreme\n",
    "\n",
    "## First fit to all data\n",
    "model = fit_model(data_blocked, model_class)\n",
    "Xr, tr = get_return_levels(model)\n",
    "\n",
    "## Compute bounds\n",
    "Xr_lb, Xr_ub = get_return_period_bnds(\n",
    "    data_blocked, model_class=model_class, n_samples=30\n",
    ")"
   ]
  },
  {
   "cell_type": "markdown",
   "id": "f8a4baa5-28b6-4392-aa39-aa098310e1ff",
   "metadata": {},
   "source": [
    "## Empirical return period"
   ]
  },
  {
   "cell_type": "code",
   "execution_count": null,
   "id": "1e85af93-8f6a-44f4-946d-75b83b24c36b",
   "metadata": {},
   "outputs": [],
   "source": [
    "data_sorted = data_blocked.isel(year=np.argsort(data_blocked.values))\n",
    "n = len(data_sorted)\n",
    "m = np.arange(1, n + 1)\n",
    "\n",
    "cdf_empirical = m / (n + 1)\n",
    "tr_empirical = 1 / (1 - cdf_empirical)"
   ]
  },
  {
   "cell_type": "markdown",
   "id": "1d384114-0e01-4d01-9d1a-f6c2427b1dee",
   "metadata": {},
   "source": [
    "## Plot result"
   ]
  },
  {
   "cell_type": "code",
   "execution_count": null,
   "id": "813e1589-494b-4985-95a8-5705330ee701",
   "metadata": {},
   "outputs": [],
   "source": [
    "xvals = np.linspace(304, 326, 200)\n",
    "\n",
    "fig, ax = plt.subplots(figsize=(4, 3))\n",
    "ax.stairs(pdf_empirical, edges=bin_edges, color=\"gray\", fill=True, alpha=0.3)\n",
    "ax.plot(xvals, model.pdf(xvals), c=\"k\")\n",
    "\n",
    "ax.set_xlabel(r\"Annual max ($K$)\")\n",
    "ax.set_ylabel(\"Prob.\")\n",
    "ax.set_ylim([-0.01, None])\n",
    "ax.set_yticks([0, 0.05, 0.1])\n",
    "\n",
    "## plot max value\n",
    "ax.scatter(data_blocked.max(), 0, marker=\"x\", c=\"r\", s=50)\n",
    "\n",
    "plt.show()"
   ]
  },
  {
   "cell_type": "markdown",
   "id": "bb6072a1-80f5-4ffe-b693-2dfdf7cc2709",
   "metadata": {},
   "source": [
    "## Plot as function of number of blocks"
   ]
  },
  {
   "cell_type": "code",
   "execution_count": null,
   "id": "4cefc2e8-48ec-43aa-a6ca-a2e01c921ea9",
   "metadata": {},
   "outputs": [],
   "source": [
    "fig, ax = plt.subplots(figsize=(4, 3))\n",
    "\n",
    "## plot modeled return period\n",
    "ax.plot(tr, Xr)\n",
    "ax.fill_between(tr, Xr_ub, Xr_lb, color=\"k\", alpha=0.1)\n",
    "\n",
    "## plot empirical return period\n",
    "ax.scatter(tr_empirical, data_sorted, c=\"k\", s=1.5)\n",
    "\n",
    "## label axes\n",
    "ax.set_xlabel(\"Return period (years)\")\n",
    "ax.set_ylabel(r\"$T_{2m}$ ($K$)\")\n",
    "ax.set_xscale(\"log\")\n",
    "\n",
    "plt.show()"
   ]
  }
 ],
 "metadata": {
  "kernelspec": {
   "display_name": "Python 3 (ipykernel)",
   "language": "python",
   "name": "python3"
  },
  "language_info": {
   "codemirror_mode": {
    "name": "ipython",
    "version": 3
   },
   "file_extension": ".py",
   "mimetype": "text/x-python",
   "name": "python",
   "nbconvert_exporter": "python",
   "pygments_lexer": "ipython3",
   "version": "3.12.4"
  }
 },
 "nbformat": 4,
 "nbformat_minor": 5
}
